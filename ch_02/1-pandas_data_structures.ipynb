{
  "nbformat": 4,
  "nbformat_minor": 0,
  "metadata": {
    "kernelspec": {
      "display_name": "Python 3",
      "language": "python",
      "name": "python3"
    },
    "language_info": {
      "codemirror_mode": {
        "name": "ipython",
        "version": 3
      },
      "file_extension": ".py",
      "mimetype": "text/x-python",
      "name": "python",
      "nbconvert_exporter": "python",
      "pygments_lexer": "ipython3",
      "version": "3.7.3"
    },
    "colab": {
      "name": "1-pandas_data_structures.ipynb",
      "provenance": [],
      "include_colab_link": true
    }
  },
  "cells": [
    {
      "cell_type": "markdown",
      "metadata": {
        "id": "view-in-github",
        "colab_type": "text"
      },
      "source": [
        "<a href=\"https://colab.research.google.com/github/ikwak2/Hands-On-Data-Analysis-with-Pandas-2nd-edition/blob/master/ch_02/1-pandas_data_structures.ipynb\" target=\"_parent\"><img src=\"https://colab.research.google.com/assets/colab-badge.svg\" alt=\"Open In Colab\"/></a>"
      ]
    },
    {
      "cell_type": "markdown",
      "metadata": {
        "id": "J7EI04_dz9ep"
      },
      "source": [
        "# Pandas Data Structures Overview\n",
        "In this section, we will discuss the `Series`, `Index`, and `DataFrame` classes. To do so, we will read in a snippet of the CSV file we will work with later. Don't worry about that part yet, though.\n",
        "\n",
        "## About the Data\n",
        "In this notebook, we will be working with 5 rows from the earthquake data collected over September 18, 2018 - October 13, 2018 (obtained from the US Geological Survey (USGS) using the [USGS API](https://earthquake.usgs.gov/fdsnws/event/1/))\n",
        "\n",
        "## Working with NumPy Arrays\n",
        "Let's read in a short CSV file (using `numpy`) for some sample data. "
      ]
    },
    {
      "cell_type": "code",
      "metadata": {
        "id": "QJa3p-ZK0DAu"
      },
      "source": [
        ""
      ],
      "execution_count": null,
      "outputs": []
    },
    {
      "cell_type": "code",
      "metadata": {
        "id": "SiS65E7d0D3K",
        "outputId": "c6b0f108-e02e-49d2-eb65-4303b1942b7b",
        "colab": {
          "base_uri": "https://localhost:8080/"
        }
      },
      "source": [
        "from google.colab import drive\n",
        "drive.mount('/content/drive')"
      ],
      "execution_count": 2,
      "outputs": [
        {
          "output_type": "stream",
          "name": "stdout",
          "text": [
            "Mounted at /content/drive\n"
          ]
        }
      ]
    },
    {
      "cell_type": "code",
      "metadata": {
        "id": "dURWavPK0MNT",
        "outputId": "335b1abe-f65e-4715-dec2-94ebd17b1194",
        "colab": {
          "base_uri": "https://localhost:8080/"
        }
      },
      "source": [
        "import os\n",
        "import sys\n",
        "os.listdir()"
      ],
      "execution_count": 3,
      "outputs": [
        {
          "output_type": "execute_result",
          "data": {
            "text/plain": [
              "['.config', 'drive', 'sample_data']"
            ]
          },
          "metadata": {},
          "execution_count": 3
        }
      ]
    },
    {
      "cell_type": "code",
      "metadata": {
        "id": "23HBy9ge0VWZ",
        "outputId": "d59084c1-69c5-4ee7-be47-e958ff4fa332",
        "colab": {
          "base_uri": "https://localhost:8080/"
        }
      },
      "source": [
        "cd drive"
      ],
      "execution_count": 4,
      "outputs": [
        {
          "output_type": "stream",
          "name": "stdout",
          "text": [
            "/content/drive\n"
          ]
        }
      ]
    },
    {
      "cell_type": "code",
      "metadata": {
        "id": "qVppfTZH0YR2",
        "outputId": "9e50b527-880e-4e8b-a611-4c0c1fe7e538",
        "colab": {
          "base_uri": "https://localhost:8080/",
          "height": 134
        }
      },
      "source": [
        "os.listdir()\n"
      ],
      "execution_count": 6,
      "outputs": [
        {
          "output_type": "error",
          "ename": "SyntaxError",
          "evalue": "ignored",
          "traceback": [
            "\u001b[0;36m  File \u001b[0;32m\"<ipython-input-6-088be2ce627f>\"\u001b[0;36m, line \u001b[0;32m2\u001b[0m\n\u001b[0;31m    cd MyDrive/Hands-On-Data-Analysis-with-Pandas-2nd-edition/\u001b[0m\n\u001b[0m             ^\u001b[0m\n\u001b[0;31mSyntaxError\u001b[0m\u001b[0;31m:\u001b[0m invalid syntax\n"
          ]
        }
      ]
    },
    {
      "cell_type": "code",
      "metadata": {
        "id": "y_bX15D70iCh",
        "outputId": "ed41f64f-8f43-48a3-e878-b51f17dc7066",
        "colab": {
          "base_uri": "https://localhost:8080/"
        }
      },
      "source": [
        "cd MyDrive/Hands-On-Data-Analysis-with-Pandas-2nd-edition/"
      ],
      "execution_count": 7,
      "outputs": [
        {
          "output_type": "stream",
          "name": "stdout",
          "text": [
            "/content/drive/MyDrive/Hands-On-Data-Analysis-with-Pandas-2nd-edition\n"
          ]
        }
      ]
    },
    {
      "cell_type": "code",
      "metadata": {
        "id": "mewaNbkj0oW6",
        "outputId": "226e9411-c545-4159-a9b1-8b4039670f47",
        "colab": {
          "base_uri": "https://localhost:8080/"
        }
      },
      "source": [
        "cd ch_02"
      ],
      "execution_count": 8,
      "outputs": [
        {
          "output_type": "stream",
          "name": "stdout",
          "text": [
            "/content/drive/MyDrive/Hands-On-Data-Analysis-with-Pandas-2nd-edition/ch_02\n"
          ]
        }
      ]
    },
    {
      "cell_type": "code",
      "metadata": {
        "id": "kARB_l8Iz9ew",
        "outputId": "48431958-a5cb-465f-df6e-eb4eb2fbc10d",
        "colab": {
          "base_uri": "https://localhost:8080/"
        }
      },
      "source": [
        "import numpy as np\n",
        "\n",
        "data = np.genfromtxt(\n",
        "    'data/example_data.csv', delimiter=';', \n",
        "    names=True, dtype=None, encoding='UTF'\n",
        ")\n",
        "data"
      ],
      "execution_count": 9,
      "outputs": [
        {
          "output_type": "execute_result",
          "data": {
            "text/plain": [
              "array([('2018-10-13 11:10:23.560', '262km NW of Ozernovskiy, Russia', 'mww', 6.7, 'green', 1),\n",
              "       ('2018-10-13 04:34:15.580', '25km E of Bitung, Indonesia', 'mww', 5.2, 'green', 0),\n",
              "       ('2018-10-13 00:13:46.220', '42km WNW of Sola, Vanuatu', 'mww', 5.7, 'green', 0),\n",
              "       ('2018-10-12 21:09:49.240', '13km E of Nueva Concepcion, Guatemala', 'mww', 5.7, 'green', 0),\n",
              "       ('2018-10-12 02:52:03.620', '128km SE of Kimbe, Papua New Guinea', 'mww', 5.6, 'green', 1)],\n",
              "      dtype=[('time', '<U23'), ('place', '<U37'), ('magType', '<U3'), ('mag', '<f8'), ('alert', '<U5'), ('tsunami', '<i8')])"
            ]
          },
          "metadata": {},
          "execution_count": 9
        }
      ]
    },
    {
      "cell_type": "markdown",
      "metadata": {
        "id": "XHDgyg_Dz9ez"
      },
      "source": [
        "We can find the dimensions with the `shape` attribute:"
      ]
    },
    {
      "cell_type": "code",
      "metadata": {
        "id": "JOoq6eZnz9e0",
        "outputId": "4f15d17f-fd74-4bcd-d32f-a1a0e9ccc8c4",
        "colab": {
          "base_uri": "https://localhost:8080/"
        }
      },
      "source": [
        "data.shape"
      ],
      "execution_count": 10,
      "outputs": [
        {
          "output_type": "execute_result",
          "data": {
            "text/plain": [
              "(5,)"
            ]
          },
          "metadata": {},
          "execution_count": 10
        }
      ]
    },
    {
      "cell_type": "markdown",
      "metadata": {
        "id": "992Q7iRYz9e1"
      },
      "source": [
        "We can find the data types with the `dtype` attribute:"
      ]
    },
    {
      "cell_type": "code",
      "metadata": {
        "id": "enTHMPD-z9e1",
        "outputId": "a83edd83-ca48-42c9-a955-fca893b730ec",
        "colab": {
          "base_uri": "https://localhost:8080/"
        }
      },
      "source": [
        "data.dtype"
      ],
      "execution_count": 11,
      "outputs": [
        {
          "output_type": "execute_result",
          "data": {
            "text/plain": [
              "dtype([('time', '<U23'), ('place', '<U37'), ('magType', '<U3'), ('mag', '<f8'), ('alert', '<U5'), ('tsunami', '<i8')])"
            ]
          },
          "metadata": {},
          "execution_count": 11
        }
      ]
    },
    {
      "cell_type": "markdown",
      "metadata": {
        "id": "XFfkSAtNz9e2"
      },
      "source": [
        "Each of the entries in the array is a row from the CSV file. NumPy arrays contain a single data type (unlike lists, which allow mixed types); this allows for fast, vectorized operations. When we read in the data, we got an array of `numpy.void` objects, which are created to store flexible types. This is because NumPy has to store several different data types per row: four strings, a float, and an integer. This means we can't take advantage of the performance improvements NumPy provides for single data type objects.\n",
        "\n",
        "Say we want to find the maximum magnitude&mdash;we can use a **[list comprehension](https://www.python.org/dev/peps/pep-0202/)** to select the third index of each row, which is represented as a `numpy.void` object. This makes a list, meaning that we can take the maximum using the `max()` function:"
      ]
    },
    {
      "cell_type": "code",
      "metadata": {
        "id": "80OADjhL067P",
        "outputId": "730fcbf3-c793-4adf-f0dc-3a7c421509c8",
        "colab": {
          "base_uri": "https://localhost:8080/"
        }
      },
      "source": [
        "max([row[3] for row in data])"
      ],
      "execution_count": 13,
      "outputs": [
        {
          "output_type": "execute_result",
          "data": {
            "text/plain": [
              "6.7"
            ]
          },
          "metadata": {},
          "execution_count": 13
        }
      ]
    },
    {
      "cell_type": "code",
      "metadata": {
        "id": "y8mG9bByz9e4",
        "outputId": "1f334e18-d168-4f1a-9abb-441971260998"
      },
      "source": [
        "%%timeit\n",
        "max([row[3] for row in data])"
      ],
      "execution_count": null,
      "outputs": [
        {
          "name": "stdout",
          "output_type": "stream",
          "text": [
            "9.74 µs ± 177 ns per loop (mean ± std. dev. of 7 runs, 10000 loops each)\n"
          ]
        }
      ]
    },
    {
      "cell_type": "markdown",
      "metadata": {
        "id": "eZDd2je2z9e5"
      },
      "source": [
        "If we, instead, create a NumPy array for each column, this operation is much easier (and more efficient) to perform. We can use a **[dictionary comprehension](https://www.python.org/dev/peps/pep-0274/)** to make a dictionary where the keys are the column names and the values are NumPy arrays of the data:"
      ]
    },
    {
      "cell_type": "code",
      "metadata": {
        "id": "xKKRz0qlz9e6",
        "outputId": "059e184d-1c41-477a-94f9-e4c689562fef",
        "colab": {
          "base_uri": "https://localhost:8080/"
        }
      },
      "source": [
        "array_dict = {\n",
        "    col: np.array([row[i] for row in data])\n",
        "    for i, col in enumerate(data.dtype.names)\n",
        "}\n",
        "array_dict"
      ],
      "execution_count": 14,
      "outputs": [
        {
          "output_type": "execute_result",
          "data": {
            "text/plain": [
              "{'alert': array(['green', 'green', 'green', 'green', 'green'], dtype='<U5'),\n",
              " 'mag': array([6.7, 5.2, 5.7, 5.7, 5.6]),\n",
              " 'magType': array(['mww', 'mww', 'mww', 'mww', 'mww'], dtype='<U3'),\n",
              " 'place': array(['262km NW of Ozernovskiy, Russia', '25km E of Bitung, Indonesia',\n",
              "        '42km WNW of Sola, Vanuatu',\n",
              "        '13km E of Nueva Concepcion, Guatemala',\n",
              "        '128km SE of Kimbe, Papua New Guinea'], dtype='<U37'),\n",
              " 'time': array(['2018-10-13 11:10:23.560', '2018-10-13 04:34:15.580',\n",
              "        '2018-10-13 00:13:46.220', '2018-10-12 21:09:49.240',\n",
              "        '2018-10-12 02:52:03.620'], dtype='<U23'),\n",
              " 'tsunami': array([1, 0, 0, 0, 1])}"
            ]
          },
          "metadata": {},
          "execution_count": 14
        }
      ]
    },
    {
      "cell_type": "markdown",
      "metadata": {
        "id": "k-McAtRXz9e7"
      },
      "source": [
        "Grabbing the maximum magnitude is now simply a matter of selecting the `mag` key and calling the `max()` method. This is nearly twice as fast as the list comprehension implementation when dealing with just 5 entries, imagine how much worse the first attempt will perform on large data sets:"
      ]
    },
    {
      "cell_type": "code",
      "metadata": {
        "id": "Bq51yaJz1UiR",
        "outputId": "c3b6a3bb-0dad-4a37-c2d0-174284cdd3e1",
        "colab": {
          "base_uri": "https://localhost:8080/"
        }
      },
      "source": [
        "array_dict['mag']"
      ],
      "execution_count": 15,
      "outputs": [
        {
          "output_type": "execute_result",
          "data": {
            "text/plain": [
              "array([6.7, 5.2, 5.7, 5.7, 5.6])"
            ]
          },
          "metadata": {},
          "execution_count": 15
        }
      ]
    },
    {
      "cell_type": "code",
      "metadata": {
        "id": "L0Gxim6Xz9e8",
        "outputId": "f1e6d79c-187c-41bc-999b-d8159018536e",
        "colab": {
          "base_uri": "https://localhost:8080/"
        }
      },
      "source": [
        "%%timeit\n",
        "array_dict['mag'].max()"
      ],
      "execution_count": 16,
      "outputs": [
        {
          "output_type": "stream",
          "name": "stdout",
          "text": [
            "The slowest run took 325.82 times longer than the fastest. This could mean that an intermediate result is being cached.\n",
            "100000 loops, best of 5: 2.6 µs per loop\n"
          ]
        }
      ]
    },
    {
      "cell_type": "markdown",
      "metadata": {
        "id": "0801WbCXz9e8"
      },
      "source": [
        "However, this representation has other issues. Say we wanted to grab all the information for the earthquake with the maximum magnitude, how would we go about that? We would need to find the index of the maximum and then for each of the keys in the dictionary grab that index:"
      ]
    },
    {
      "cell_type": "code",
      "metadata": {
        "id": "1OMO_aaOz9e9",
        "outputId": "47e59eae-80db-4681-8275-68ee2849395c",
        "colab": {
          "base_uri": "https://localhost:8080/"
        }
      },
      "source": [
        "np.array([\n",
        "    value[array_dict['mag'].argmax()] \n",
        "    for key, value in array_dict.items()\n",
        "])"
      ],
      "execution_count": 17,
      "outputs": [
        {
          "output_type": "execute_result",
          "data": {
            "text/plain": [
              "array(['2018-10-13 11:10:23.560', '262km NW of Ozernovskiy, Russia',\n",
              "       'mww', '6.7', 'green', '1'], dtype='<U31')"
            ]
          },
          "metadata": {},
          "execution_count": 17
        }
      ]
    },
    {
      "cell_type": "markdown",
      "metadata": {
        "id": "bpMkQQW6z9e-"
      },
      "source": [
        "The result is now a NumPy array of strings (our numeric values were converted), and we are now in the format from earlier. Also, consider trying to sort the data by magnitude from smallest to largest. In the first representation, we would have to sort the rows by examining the 3rd index. With the second representation, we would have to determine the order for the indices from the `mag` column, and then sort all the other arrays with those same indices. Clearly, working with several NumPy arrays of different data types at once is a bit cumbersome. However, `pandas` builds on top of NumPy arrays to make this easier. Let's start our exploration of `pandas` with an overview of the data structures.\n",
        "\n",
        "## `Series`\n",
        "The `Series` class provides a data structure for arrays of a single type with some additional functionality."
      ]
    },
    {
      "cell_type": "code",
      "metadata": {
        "id": "bKfLDQPH1pdw",
        "outputId": "76cee84f-fed4-470b-9d2c-6cc9c76704fd",
        "colab": {
          "base_uri": "https://localhost:8080/"
        }
      },
      "source": [
        "array_dict['place']"
      ],
      "execution_count": 18,
      "outputs": [
        {
          "output_type": "execute_result",
          "data": {
            "text/plain": [
              "array(['262km NW of Ozernovskiy, Russia', '25km E of Bitung, Indonesia',\n",
              "       '42km WNW of Sola, Vanuatu',\n",
              "       '13km E of Nueva Concepcion, Guatemala',\n",
              "       '128km SE of Kimbe, Papua New Guinea'], dtype='<U37')"
            ]
          },
          "metadata": {},
          "execution_count": 18
        }
      ]
    },
    {
      "cell_type": "code",
      "metadata": {
        "id": "glxHjiVqz9e-",
        "outputId": "27a71f73-bf82-47af-9054-5e2d96006427",
        "colab": {
          "base_uri": "https://localhost:8080/"
        }
      },
      "source": [
        "import pandas as pd\n",
        "\n",
        "place = pd.Series(array_dict['place'], name='place')\n",
        "place"
      ],
      "execution_count": 19,
      "outputs": [
        {
          "output_type": "execute_result",
          "data": {
            "text/plain": [
              "0          262km NW of Ozernovskiy, Russia\n",
              "1              25km E of Bitung, Indonesia\n",
              "2                42km WNW of Sola, Vanuatu\n",
              "3    13km E of Nueva Concepcion, Guatemala\n",
              "4      128km SE of Kimbe, Papua New Guinea\n",
              "Name: place, dtype: object"
            ]
          },
          "metadata": {},
          "execution_count": 19
        }
      ]
    },
    {
      "cell_type": "code",
      "metadata": {
        "id": "6T4871w71zY6",
        "outputId": "90976d63-9e33-41b6-fcb9-665e7f6641b3",
        "colab": {
          "base_uri": "https://localhost:8080/"
        }
      },
      "source": [
        "place.values"
      ],
      "execution_count": 25,
      "outputs": [
        {
          "output_type": "execute_result",
          "data": {
            "text/plain": [
              "array(['262km NW of Ozernovskiy, Russia', '25km E of Bitung, Indonesia',\n",
              "       '42km WNW of Sola, Vanuatu',\n",
              "       '13km E of Nueva Concepcion, Guatemala',\n",
              "       '128km SE of Kimbe, Papua New Guinea'], dtype=object)"
            ]
          },
          "metadata": {},
          "execution_count": 25
        }
      ]
    },
    {
      "cell_type": "markdown",
      "metadata": {
        "id": "9t4dk3jyz9e_"
      },
      "source": [
        "Here are some commonly used attributes with `Series` objects:\n",
        "\n",
        "|Attribute | Returns |\n",
        "| --- | --- |\n",
        "| `name` | The name of the `Series` object |\n",
        "| `dtype` | The data type of the `Series` object |\n",
        "| `shape` | Dimensions of the `Series` object in a tuple of the form `(number of rows,)` |\n",
        "| `index` | The `Index` object that is part of the `Series` object |\n",
        "| `values` | The data in the `Series` object |\n",
        "\n",
        "For the most part, `pandas` objects use NumPy arrays for their internal data representations. However, for some data types, `pandas` builds upon NumPy to create its own [arrays](https://pandas.pydata.org/pandas-docs/stable/reference/arrays.html). For this reason, depending on the data type, `values` can either be a `pandas.array` or `numpy.array` object. Therefore, if we need to ensure we get a specific type back, then it is recommended to use the `array` attribute or `to_numpy()` method, respectively, instead of `values`.\n",
        "\n",
        "Now let's see some examples using these attributes.\n",
        "\n",
        "### Getting the name of the series\n",
        "The NumPy array held the name of the data in the `dtype` attribute; here, we can access it directly: "
      ]
    },
    {
      "cell_type": "code",
      "metadata": {
        "id": "Ixi0NZ25z9e_",
        "outputId": "d6648a44-73ac-4329-d2ad-7f64d5291506",
        "colab": {
          "base_uri": "https://localhost:8080/",
          "height": 35
        }
      },
      "source": [
        "place.name"
      ],
      "execution_count": 26,
      "outputs": [
        {
          "output_type": "execute_result",
          "data": {
            "application/vnd.google.colaboratory.intrinsic+json": {
              "type": "string"
            },
            "text/plain": [
              "'place'"
            ]
          },
          "metadata": {},
          "execution_count": 26
        }
      ]
    },
    {
      "cell_type": "markdown",
      "metadata": {
        "id": "fSLSVfShz9fA"
      },
      "source": [
        "### Getting the data type\n",
        "A `Series` object holds a single data type. Here it is `'O'` for object."
      ]
    },
    {
      "cell_type": "code",
      "metadata": {
        "id": "P1EeN4-kz9fB",
        "outputId": "9f89b8be-5059-4de2-8d64-b84017acb086",
        "colab": {
          "base_uri": "https://localhost:8080/"
        }
      },
      "source": [
        "place.dtype"
      ],
      "execution_count": 27,
      "outputs": [
        {
          "output_type": "execute_result",
          "data": {
            "text/plain": [
              "dtype('O')"
            ]
          },
          "metadata": {},
          "execution_count": 27
        }
      ]
    },
    {
      "cell_type": "markdown",
      "metadata": {
        "id": "irZLkNimz9fB"
      },
      "source": [
        "### Getting the dimensions of the series\n",
        "Just as with NumPy, we can use `shape` to get the dimensions as `(rows, columns)`. `Series` objects are a single column, so they only have values for the rows dimension. "
      ]
    },
    {
      "cell_type": "code",
      "metadata": {
        "id": "1M2ZOVbZz9fC",
        "outputId": "aea8d4ae-c2d1-448e-d465-494fd9372f79",
        "colab": {
          "base_uri": "https://localhost:8080/"
        }
      },
      "source": [
        "place.shape"
      ],
      "execution_count": 28,
      "outputs": [
        {
          "output_type": "execute_result",
          "data": {
            "text/plain": [
              "(5,)"
            ]
          },
          "metadata": {},
          "execution_count": 28
        }
      ]
    },
    {
      "cell_type": "markdown",
      "metadata": {
        "id": "BGfv7EMHz9fC"
      },
      "source": [
        "### Isolating the values from the series\n",
        "This `Series` object is storing its values as a NumPy array:"
      ]
    },
    {
      "cell_type": "code",
      "metadata": {
        "id": "AcASEUwIz9fD",
        "outputId": "096038ce-a3a5-4bc1-bc6a-70795866ac60",
        "colab": {
          "base_uri": "https://localhost:8080/"
        }
      },
      "source": [
        "place.values"
      ],
      "execution_count": 29,
      "outputs": [
        {
          "output_type": "execute_result",
          "data": {
            "text/plain": [
              "array(['262km NW of Ozernovskiy, Russia', '25km E of Bitung, Indonesia',\n",
              "       '42km WNW of Sola, Vanuatu',\n",
              "       '13km E of Nueva Concepcion, Guatemala',\n",
              "       '128km SE of Kimbe, Papua New Guinea'], dtype=object)"
            ]
          },
          "metadata": {},
          "execution_count": 29
        }
      ]
    },
    {
      "cell_type": "markdown",
      "metadata": {
        "id": "IbTpRpzxz9fD"
      },
      "source": [
        "## `Index`\n",
        "The addition of the `Index` class makes the `Series` class more powerful than a NumPy array. We can get the index from the `index` attribute of a `Series` object:"
      ]
    },
    {
      "cell_type": "code",
      "metadata": {
        "id": "-ya3HXqJz9fD",
        "outputId": "d57a1b11-2b6a-40ea-9784-77c9b261c04a",
        "colab": {
          "base_uri": "https://localhost:8080/"
        }
      },
      "source": [
        "place_index = place.index\n",
        "place_index"
      ],
      "execution_count": 31,
      "outputs": [
        {
          "output_type": "execute_result",
          "data": {
            "text/plain": [
              "RangeIndex(start=0, stop=5, step=1)"
            ]
          },
          "metadata": {},
          "execution_count": 31
        }
      ]
    },
    {
      "cell_type": "markdown",
      "metadata": {
        "id": "-U3eNhx4z9fD"
      },
      "source": [
        "As with `Series` objects, we can access the underlying data via the `values` attribute. Note that this `Index` object is also built on top of a NumPy array:"
      ]
    },
    {
      "cell_type": "code",
      "metadata": {
        "id": "XLHAkeHiz9fE",
        "outputId": "dadd357b-abf6-4700-fded-b70762b26374",
        "colab": {
          "base_uri": "https://localhost:8080/"
        }
      },
      "source": [
        "place_index.values"
      ],
      "execution_count": 32,
      "outputs": [
        {
          "output_type": "execute_result",
          "data": {
            "text/plain": [
              "array([0, 1, 2, 3, 4])"
            ]
          },
          "metadata": {},
          "execution_count": 32
        }
      ]
    },
    {
      "cell_type": "markdown",
      "metadata": {
        "id": "hEI5narQz9fE"
      },
      "source": [
        "Here are some commonly used attributes with `Index` objects:\n",
        "\n",
        "|Attribute | Returns |\n",
        "| --- | --- |\n",
        "| `name` | The name of the `Index` object |\n",
        "| `dtype` | The data type of the `Index` object |\n",
        "| `shape` | Dimensions of the `Index` object |\n",
        "| `values` | The data in the `Index` object |\n",
        "| `is_unique` | Check if the `Index` object has all unique values |\n",
        "\n",
        "We can check the type of the underlying data, just like with a `Series` object:"
      ]
    },
    {
      "cell_type": "code",
      "metadata": {
        "id": "JLT6ftnUz9fE",
        "outputId": "03ced48b-0779-4e59-e46d-b8d76f839df5",
        "colab": {
          "base_uri": "https://localhost:8080/"
        }
      },
      "source": [
        "place_index.dtype"
      ],
      "execution_count": 33,
      "outputs": [
        {
          "output_type": "execute_result",
          "data": {
            "text/plain": [
              "dtype('int64')"
            ]
          },
          "metadata": {},
          "execution_count": 33
        }
      ]
    },
    {
      "cell_type": "markdown",
      "metadata": {
        "id": "4ion5rmhz9fE"
      },
      "source": [
        "Same for the dimensions:"
      ]
    },
    {
      "cell_type": "code",
      "metadata": {
        "id": "4uksiwcxz9fE",
        "outputId": "576fcf3e-cfdd-4157-905a-f1713db030bf",
        "colab": {
          "base_uri": "https://localhost:8080/"
        }
      },
      "source": [
        "place_index.shape"
      ],
      "execution_count": 34,
      "outputs": [
        {
          "output_type": "execute_result",
          "data": {
            "text/plain": [
              "(5,)"
            ]
          },
          "metadata": {},
          "execution_count": 34
        }
      ]
    },
    {
      "cell_type": "markdown",
      "metadata": {
        "id": "C2zb75ehz9fF"
      },
      "source": [
        "We can check if the values are unique:"
      ]
    },
    {
      "cell_type": "code",
      "metadata": {
        "id": "H6ZE7Fagz9fF",
        "outputId": "ddac6977-6688-42a6-e03f-30ac2a759036",
        "colab": {
          "base_uri": "https://localhost:8080/"
        }
      },
      "source": [
        "place_index.is_unique"
      ],
      "execution_count": 35,
      "outputs": [
        {
          "output_type": "execute_result",
          "data": {
            "text/plain": [
              "True"
            ]
          },
          "metadata": {},
          "execution_count": 35
        }
      ]
    },
    {
      "cell_type": "markdown",
      "metadata": {
        "id": "d8SP-4Nhz9fF"
      },
      "source": [
        "With NumPy we can perform arithmetic operations element-wise between arrays:"
      ]
    },
    {
      "cell_type": "code",
      "metadata": {
        "id": "YEyNjarcz9fG",
        "outputId": "5e96277f-38de-46b6-c0ae-7dd4bbd8ea67",
        "colab": {
          "base_uri": "https://localhost:8080/"
        }
      },
      "source": [
        "np.array([1, 1, 1]) + np.array([-1, 0, 1])"
      ],
      "execution_count": 36,
      "outputs": [
        {
          "output_type": "execute_result",
          "data": {
            "text/plain": [
              "array([0, 1, 2])"
            ]
          },
          "metadata": {},
          "execution_count": 36
        }
      ]
    },
    {
      "cell_type": "markdown",
      "metadata": {
        "id": "OC9J_hB9z9fG"
      },
      "source": [
        "Pandas supports this as well, and the index determines how element-wise operations are performed. With addition, only the matching indices are summed:"
      ]
    },
    {
      "cell_type": "code",
      "metadata": {
        "id": "UrXMfBFhz9fG",
        "outputId": "0bfdaa90-3214-4452-d37d-8cf4b6e9fccd",
        "colab": {
          "base_uri": "https://localhost:8080/"
        }
      },
      "source": [
        "numbers = np.linspace(0, 10, num=5) # makes numpy array([0, 2.5, 5, 7.5, 10])\n",
        "x = pd.Series(numbers) # index is [0, 1, 2, 3, 4]\n",
        "y = pd.Series(numbers, index=pd.Index([1, 2, 3, 4, 5]))\n",
        "x + y"
      ],
      "execution_count": 37,
      "outputs": [
        {
          "output_type": "execute_result",
          "data": {
            "text/plain": [
              "0     NaN\n",
              "1     2.5\n",
              "2     7.5\n",
              "3    12.5\n",
              "4    17.5\n",
              "5     NaN\n",
              "dtype: float64"
            ]
          },
          "metadata": {},
          "execution_count": 37
        }
      ]
    },
    {
      "cell_type": "markdown",
      "metadata": {
        "id": "CzXpB07az9fG"
      },
      "source": [
        "We aren't limited to the integer indices of list-like structures, and we can label our rows. The labels can be altered at any time and be things like dates or even another column. In chapter 3, we will discuss how to perform some operations on the index in order to change it. Then, in chapter 4, we will use the index for operations merging data and aggregating it.\n",
        "\n",
        "## `DataFrame`\n",
        "Having a `Series` object for each column is an improvement over the NumPy representation; however, we still have the same problem when wanting to sort based on a value or grab an entire row out. The `DataFrame` gives us a representation of a table formed from many `Series` objects that form the columns and a shared `Index` object that labels the rows. We can create a `DataFrame` object from either of the NumPy representations we were working with earlier (we could also make a `Series` object for each column, but there is no need to do so):"
      ]
    },
    {
      "cell_type": "code",
      "metadata": {
        "id": "crJTpHzg3lsv",
        "outputId": "1bd5b8ba-be0a-4f0e-98ac-663497baa2f0",
        "colab": {
          "base_uri": "https://localhost:8080/"
        }
      },
      "source": [
        "array_dict"
      ],
      "execution_count": 38,
      "outputs": [
        {
          "output_type": "execute_result",
          "data": {
            "text/plain": [
              "{'alert': array(['green', 'green', 'green', 'green', 'green'], dtype='<U5'),\n",
              " 'mag': array([6.7, 5.2, 5.7, 5.7, 5.6]),\n",
              " 'magType': array(['mww', 'mww', 'mww', 'mww', 'mww'], dtype='<U3'),\n",
              " 'place': array(['262km NW of Ozernovskiy, Russia', '25km E of Bitung, Indonesia',\n",
              "        '42km WNW of Sola, Vanuatu',\n",
              "        '13km E of Nueva Concepcion, Guatemala',\n",
              "        '128km SE of Kimbe, Papua New Guinea'], dtype='<U37'),\n",
              " 'time': array(['2018-10-13 11:10:23.560', '2018-10-13 04:34:15.580',\n",
              "        '2018-10-13 00:13:46.220', '2018-10-12 21:09:49.240',\n",
              "        '2018-10-12 02:52:03.620'], dtype='<U23'),\n",
              " 'tsunami': array([1, 0, 0, 0, 1])}"
            ]
          },
          "metadata": {},
          "execution_count": 38
        }
      ]
    },
    {
      "cell_type": "code",
      "metadata": {
        "id": "ifqVaWKgz9fH",
        "outputId": "5e9e36b6-2751-4b35-bb07-01cf8199618d",
        "colab": {
          "base_uri": "https://localhost:8080/",
          "height": 203
        }
      },
      "source": [
        "df = pd.DataFrame(array_dict) \n",
        "\n",
        "# this will also work with the first representation\n",
        "# df = pd.DataFrame(data)\n",
        "\n",
        "df"
      ],
      "execution_count": 39,
      "outputs": [
        {
          "output_type": "execute_result",
          "data": {
            "text/html": [
              "<div>\n",
              "<style scoped>\n",
              "    .dataframe tbody tr th:only-of-type {\n",
              "        vertical-align: middle;\n",
              "    }\n",
              "\n",
              "    .dataframe tbody tr th {\n",
              "        vertical-align: top;\n",
              "    }\n",
              "\n",
              "    .dataframe thead th {\n",
              "        text-align: right;\n",
              "    }\n",
              "</style>\n",
              "<table border=\"1\" class=\"dataframe\">\n",
              "  <thead>\n",
              "    <tr style=\"text-align: right;\">\n",
              "      <th></th>\n",
              "      <th>time</th>\n",
              "      <th>place</th>\n",
              "      <th>magType</th>\n",
              "      <th>mag</th>\n",
              "      <th>alert</th>\n",
              "      <th>tsunami</th>\n",
              "    </tr>\n",
              "  </thead>\n",
              "  <tbody>\n",
              "    <tr>\n",
              "      <th>0</th>\n",
              "      <td>2018-10-13 11:10:23.560</td>\n",
              "      <td>262km NW of Ozernovskiy, Russia</td>\n",
              "      <td>mww</td>\n",
              "      <td>6.7</td>\n",
              "      <td>green</td>\n",
              "      <td>1</td>\n",
              "    </tr>\n",
              "    <tr>\n",
              "      <th>1</th>\n",
              "      <td>2018-10-13 04:34:15.580</td>\n",
              "      <td>25km E of Bitung, Indonesia</td>\n",
              "      <td>mww</td>\n",
              "      <td>5.2</td>\n",
              "      <td>green</td>\n",
              "      <td>0</td>\n",
              "    </tr>\n",
              "    <tr>\n",
              "      <th>2</th>\n",
              "      <td>2018-10-13 00:13:46.220</td>\n",
              "      <td>42km WNW of Sola, Vanuatu</td>\n",
              "      <td>mww</td>\n",
              "      <td>5.7</td>\n",
              "      <td>green</td>\n",
              "      <td>0</td>\n",
              "    </tr>\n",
              "    <tr>\n",
              "      <th>3</th>\n",
              "      <td>2018-10-12 21:09:49.240</td>\n",
              "      <td>13km E of Nueva Concepcion, Guatemala</td>\n",
              "      <td>mww</td>\n",
              "      <td>5.7</td>\n",
              "      <td>green</td>\n",
              "      <td>0</td>\n",
              "    </tr>\n",
              "    <tr>\n",
              "      <th>4</th>\n",
              "      <td>2018-10-12 02:52:03.620</td>\n",
              "      <td>128km SE of Kimbe, Papua New Guinea</td>\n",
              "      <td>mww</td>\n",
              "      <td>5.6</td>\n",
              "      <td>green</td>\n",
              "      <td>1</td>\n",
              "    </tr>\n",
              "  </tbody>\n",
              "</table>\n",
              "</div>"
            ],
            "text/plain": [
              "                      time  ... tsunami\n",
              "0  2018-10-13 11:10:23.560  ...       1\n",
              "1  2018-10-13 04:34:15.580  ...       0\n",
              "2  2018-10-13 00:13:46.220  ...       0\n",
              "3  2018-10-12 21:09:49.240  ...       0\n",
              "4  2018-10-12 02:52:03.620  ...       1\n",
              "\n",
              "[5 rows x 6 columns]"
            ]
          },
          "metadata": {},
          "execution_count": 39
        }
      ]
    },
    {
      "cell_type": "markdown",
      "metadata": {
        "id": "Oui4R4yWz9fH"
      },
      "source": [
        "We can check the type of the underlying data with `dtypes` (note that it is not `dtype` as with `Series` and `Index` objects since each column will have its own data type):"
      ]
    },
    {
      "cell_type": "code",
      "metadata": {
        "id": "Aw_b2s1Jz9fH",
        "outputId": "6d5c155a-83f1-44d4-fdee-ed51742c7d8e",
        "colab": {
          "base_uri": "https://localhost:8080/"
        }
      },
      "source": [
        "df.dtypes"
      ],
      "execution_count": 40,
      "outputs": [
        {
          "output_type": "execute_result",
          "data": {
            "text/plain": [
              "time        object\n",
              "place       object\n",
              "magType     object\n",
              "mag        float64\n",
              "alert       object\n",
              "tsunami      int64\n",
              "dtype: object"
            ]
          },
          "metadata": {},
          "execution_count": 40
        }
      ]
    },
    {
      "cell_type": "markdown",
      "metadata": {
        "id": "CYdPBH_Qz9fH"
      },
      "source": [
        "We can get the underlying data with the `values` attribute. Note that this looks very similar to our initial NumPy representation:"
      ]
    },
    {
      "cell_type": "code",
      "metadata": {
        "id": "cd-a4l7Qz9fI",
        "outputId": "764665ea-7db0-4143-d16d-d6f4c43ceb4c",
        "colab": {
          "base_uri": "https://localhost:8080/"
        }
      },
      "source": [
        "df.values"
      ],
      "execution_count": 41,
      "outputs": [
        {
          "output_type": "execute_result",
          "data": {
            "text/plain": [
              "array([['2018-10-13 11:10:23.560', '262km NW of Ozernovskiy, Russia',\n",
              "        'mww', 6.7, 'green', 1],\n",
              "       ['2018-10-13 04:34:15.580', '25km E of Bitung, Indonesia', 'mww',\n",
              "        5.2, 'green', 0],\n",
              "       ['2018-10-13 00:13:46.220', '42km WNW of Sola, Vanuatu', 'mww',\n",
              "        5.7, 'green', 0],\n",
              "       ['2018-10-12 21:09:49.240',\n",
              "        '13km E of Nueva Concepcion, Guatemala', 'mww', 5.7, 'green', 0],\n",
              "       ['2018-10-12 02:52:03.620', '128km SE of Kimbe, Papua New Guinea',\n",
              "        'mww', 5.6, 'green', 1]], dtype=object)"
            ]
          },
          "metadata": {},
          "execution_count": 41
        }
      ]
    },
    {
      "cell_type": "markdown",
      "metadata": {
        "id": "mzWcjk-vz9fI"
      },
      "source": [
        "We can isolate the columns with the `columns` attribute. Notice that the columns are actually an `Index` object just on a different axis (columns are the horizontal index while rows are the vertical index)."
      ]
    },
    {
      "cell_type": "code",
      "metadata": {
        "id": "LkrhkYdAz9fI",
        "outputId": "d8d851f0-36bd-4553-edde-9df34ef8a6e7",
        "colab": {
          "base_uri": "https://localhost:8080/"
        }
      },
      "source": [
        "df.columns"
      ],
      "execution_count": 42,
      "outputs": [
        {
          "output_type": "execute_result",
          "data": {
            "text/plain": [
              "Index(['time', 'place', 'magType', 'mag', 'alert', 'tsunami'], dtype='object')"
            ]
          },
          "metadata": {},
          "execution_count": 42
        }
      ]
    },
    {
      "cell_type": "markdown",
      "metadata": {
        "id": "DLN4mBeXz9fI"
      },
      "source": [
        "Here are some commonly used attributes:\n",
        "\n",
        "|Attribute | Returns |\n",
        "| --- | --- |\n",
        "| `dtypes` | The data types of each column |\n",
        "| `shape` | Dimensions of the `DataFrame` object in a tuple of the form `(number of rows, number of columns)` |\n",
        "| `index` | The `Index` object along the rows of the `DataFrame` object |\n",
        "| `columns` | The name of the columns (as an `Index` object) |\n",
        "| `values` | The data in the `DataFrame` object |\n",
        "| `empty` | Check if the `DataFrame` object is empty |\n",
        "\n",
        "The `Index` object along the rows of the dataframe can be accessed via the `index` attribute (just as with `Series` objects):"
      ]
    },
    {
      "cell_type": "code",
      "metadata": {
        "id": "9PB0Eedwz9fL",
        "outputId": "f5f6f224-d4f4-49e2-a7c4-59ed464344e5",
        "colab": {
          "base_uri": "https://localhost:8080/"
        }
      },
      "source": [
        "df.index"
      ],
      "execution_count": 43,
      "outputs": [
        {
          "output_type": "execute_result",
          "data": {
            "text/plain": [
              "RangeIndex(start=0, stop=5, step=1)"
            ]
          },
          "metadata": {},
          "execution_count": 43
        }
      ]
    },
    {
      "cell_type": "markdown",
      "metadata": {
        "id": "7z7m4cKez9fM"
      },
      "source": [
        "As with both `Series` and `Index` objects, we can get the dimensions of the dataframe with the `shape` attribute. The result is of the form `(nrows, ncols)`. Our dataframe has 5 rows and 6 columns:"
      ]
    },
    {
      "cell_type": "code",
      "metadata": {
        "id": "g8wb5FF-z9fM",
        "outputId": "6cf7701d-ad16-4097-a5a3-05f872d6ea53",
        "colab": {
          "base_uri": "https://localhost:8080/"
        }
      },
      "source": [
        "df.shape"
      ],
      "execution_count": 44,
      "outputs": [
        {
          "output_type": "execute_result",
          "data": {
            "text/plain": [
              "(5, 6)"
            ]
          },
          "metadata": {},
          "execution_count": 44
        }
      ]
    },
    {
      "cell_type": "markdown",
      "metadata": {
        "id": "qRm5waBGz9fM"
      },
      "source": [
        "Note that we can also perform arithmetic on dataframes. Pandas will only perform the operation when both the index and column match. Here, we demonstrate addition. Since addition with strings means concatenation, `pandas` concatenated the string columns (`time`, `place`, `magType`, and `alert`) across dataframes. The numeric columns (`mag` and `tsunami`) were summed:"
      ]
    },
    {
      "cell_type": "code",
      "metadata": {
        "id": "-MShF-ghz9fM",
        "outputId": "41fbf79f-c876-4f56-c109-783d1a452ca3"
      },
      "source": [
        "df + df"
      ],
      "execution_count": null,
      "outputs": [
        {
          "data": {
            "text/html": [
              "<div>\n",
              "<style scoped>\n",
              "    .dataframe tbody tr th:only-of-type {\n",
              "        vertical-align: middle;\n",
              "    }\n",
              "\n",
              "    .dataframe tbody tr th {\n",
              "        vertical-align: top;\n",
              "    }\n",
              "\n",
              "    .dataframe thead th {\n",
              "        text-align: right;\n",
              "    }\n",
              "</style>\n",
              "<table border=\"1\" class=\"dataframe\">\n",
              "  <thead>\n",
              "    <tr style=\"text-align: right;\">\n",
              "      <th></th>\n",
              "      <th>time</th>\n",
              "      <th>place</th>\n",
              "      <th>magType</th>\n",
              "      <th>mag</th>\n",
              "      <th>alert</th>\n",
              "      <th>tsunami</th>\n",
              "    </tr>\n",
              "  </thead>\n",
              "  <tbody>\n",
              "    <tr>\n",
              "      <th>0</th>\n",
              "      <td>2018-10-13 11:10:23.5602018-10-13 11:10:23.560</td>\n",
              "      <td>262km NW of Ozernovskiy, Russia262km NW of Oze...</td>\n",
              "      <td>mwwmww</td>\n",
              "      <td>13.4</td>\n",
              "      <td>greengreen</td>\n",
              "      <td>2</td>\n",
              "    </tr>\n",
              "    <tr>\n",
              "      <th>1</th>\n",
              "      <td>2018-10-13 04:34:15.5802018-10-13 04:34:15.580</td>\n",
              "      <td>25km E of Bitung, Indonesia25km E of Bitung, I...</td>\n",
              "      <td>mwwmww</td>\n",
              "      <td>10.4</td>\n",
              "      <td>greengreen</td>\n",
              "      <td>0</td>\n",
              "    </tr>\n",
              "    <tr>\n",
              "      <th>2</th>\n",
              "      <td>2018-10-13 00:13:46.2202018-10-13 00:13:46.220</td>\n",
              "      <td>42km WNW of Sola, Vanuatu42km WNW of Sola, Van...</td>\n",
              "      <td>mwwmww</td>\n",
              "      <td>11.4</td>\n",
              "      <td>greengreen</td>\n",
              "      <td>0</td>\n",
              "    </tr>\n",
              "    <tr>\n",
              "      <th>3</th>\n",
              "      <td>2018-10-12 21:09:49.2402018-10-12 21:09:49.240</td>\n",
              "      <td>13km E of Nueva Concepcion, Guatemala13km E of...</td>\n",
              "      <td>mwwmww</td>\n",
              "      <td>11.4</td>\n",
              "      <td>greengreen</td>\n",
              "      <td>0</td>\n",
              "    </tr>\n",
              "    <tr>\n",
              "      <th>4</th>\n",
              "      <td>2018-10-12 02:52:03.6202018-10-12 02:52:03.620</td>\n",
              "      <td>128km SE of Kimbe, Papua New Guinea128km SE of...</td>\n",
              "      <td>mwwmww</td>\n",
              "      <td>11.2</td>\n",
              "      <td>greengreen</td>\n",
              "      <td>2</td>\n",
              "    </tr>\n",
              "  </tbody>\n",
              "</table>\n",
              "</div>"
            ],
            "text/plain": [
              "                                             time  \\\n",
              "0  2018-10-13 11:10:23.5602018-10-13 11:10:23.560   \n",
              "1  2018-10-13 04:34:15.5802018-10-13 04:34:15.580   \n",
              "2  2018-10-13 00:13:46.2202018-10-13 00:13:46.220   \n",
              "3  2018-10-12 21:09:49.2402018-10-12 21:09:49.240   \n",
              "4  2018-10-12 02:52:03.6202018-10-12 02:52:03.620   \n",
              "\n",
              "                                               place magType   mag  \\\n",
              "0  262km NW of Ozernovskiy, Russia262km NW of Oze...  mwwmww  13.4   \n",
              "1  25km E of Bitung, Indonesia25km E of Bitung, I...  mwwmww  10.4   \n",
              "2  42km WNW of Sola, Vanuatu42km WNW of Sola, Van...  mwwmww  11.4   \n",
              "3  13km E of Nueva Concepcion, Guatemala13km E of...  mwwmww  11.4   \n",
              "4  128km SE of Kimbe, Papua New Guinea128km SE of...  mwwmww  11.2   \n",
              "\n",
              "        alert  tsunami  \n",
              "0  greengreen        2  \n",
              "1  greengreen        0  \n",
              "2  greengreen        0  \n",
              "3  greengreen        0  \n",
              "4  greengreen        2  "
            ]
          },
          "execution_count": 26,
          "metadata": {},
          "output_type": "execute_result"
        }
      ]
    },
    {
      "cell_type": "markdown",
      "metadata": {
        "id": "m-16_qM8z9fN"
      },
      "source": [
        "<hr>\n",
        "<div>\n",
        "    <a href=\"../ch_01/introduction_to_data_analysis.ipynb\">\n",
        "        <button style=\"float: left;\">&#8592; Chapter 1</button>\n",
        "    </a>\n",
        "    <a href=\"./2-creating_dataframes.ipynb\">\n",
        "        <button style=\"float: right;\">Next Notebook &#8594;</button>\n",
        "    </a>\n",
        "</div>\n",
        "<br>\n",
        "<hr>"
      ]
    }
  ]
}